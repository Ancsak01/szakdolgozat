{
    "cells": [
        {
            "cell_type": "code",
            "execution_count": 1,
            "metadata": {
                "azdata_cell_guid": "a56402e5-ef45-4ba9-8f5e-97d170ec8a77"
            },
            "outputs": [
                {
                    "name": "stdout",
                    "output_type": "stream",
                    "text": [
                        "c:\\Users\\Ricsi\\PycharmProjects\\szakdolgozat\\ImageProcessing\\src\n"
                    ]
                },
                {
                    "data": {
                        "application/vnd.jupyter.widget-view+json": {
                            "model_id": "85c62a8490864b0d895aed2bd14b4289",
                            "version_major": 2,
                            "version_minor": 0
                        },
                        "text/plain": [
                            "Button(description='Next Image', style=ButtonStyle())"
                        ]
                    },
                    "metadata": {},
                    "output_type": "display_data"
                },
                {
                    "data": {
                        "application/vnd.jupyter.widget-view+json": {
                            "model_id": "04f24e06514647bea4813e668e2e12bb",
                            "version_major": 2,
                            "version_minor": 0
                        },
                        "text/plain": [
                            "Button(description='Prev Image', style=ButtonStyle())"
                        ]
                    },
                    "metadata": {},
                    "output_type": "display_data"
                },
                {
                    "data": {
                        "application/vnd.jupyter.widget-view+json": {
                            "model_id": "9151acd879904742ae05855bb141fe12",
                            "version_major": 2,
                            "version_minor": 0
                        },
                        "text/plain": [
                            "Button(description='Change Image', style=ButtonStyle())"
                        ]
                    },
                    "metadata": {},
                    "output_type": "display_data"
                },
                {
                    "data": {
                        "application/vnd.jupyter.widget-view+json": {
                            "model_id": "6d572158af4a4eb78f362b4e9aeb59fa",
                            "version_major": 2,
                            "version_minor": 0
                        },
                        "text/plain": [
                            "IntSlider(value=86, description='Low HUE:', max=179)"
                        ]
                    },
                    "metadata": {},
                    "output_type": "display_data"
                },
                {
                    "data": {
                        "application/vnd.jupyter.widget-view+json": {
                            "model_id": "c96bdd0a64ac4710a99aae17315e678c",
                            "version_major": 2,
                            "version_minor": 0
                        },
                        "text/plain": [
                            "IntSlider(value=144, description='Low Saturation:', max=255)"
                        ]
                    },
                    "metadata": {},
                    "output_type": "display_data"
                },
                {
                    "data": {
                        "application/vnd.jupyter.widget-view+json": {
                            "model_id": "c112dc9084154f9d8afbc6819fe0dbb3",
                            "version_major": 2,
                            "version_minor": 0
                        },
                        "text/plain": [
                            "IntSlider(value=43, description='Low Brightness:', max=255)"
                        ]
                    },
                    "metadata": {},
                    "output_type": "display_data"
                },
                {
                    "data": {
                        "application/vnd.jupyter.widget-view+json": {
                            "model_id": "9c392bd9068f4b2e8acf4e2c521ebeca",
                            "version_major": 2,
                            "version_minor": 0
                        },
                        "text/plain": [
                            "IntSlider(value=135, description='High HUE:', max=179)"
                        ]
                    },
                    "metadata": {},
                    "output_type": "display_data"
                },
                {
                    "data": {
                        "application/vnd.jupyter.widget-view+json": {
                            "model_id": "d354cadfa9cc49069f6e68a54d48cf88",
                            "version_major": 2,
                            "version_minor": 0
                        },
                        "text/plain": [
                            "IntSlider(value=255, description='High Saturation:', max=255)"
                        ]
                    },
                    "metadata": {},
                    "output_type": "display_data"
                },
                {
                    "data": {
                        "application/vnd.jupyter.widget-view+json": {
                            "model_id": "53542e6abdb34384929ac4c41192543c",
                            "version_major": 2,
                            "version_minor": 0
                        },
                        "text/plain": [
                            "IntSlider(value=255, description='High Brightness:', max=255)"
                        ]
                    },
                    "metadata": {},
                    "output_type": "display_data"
                }
            ],
            "source": [
                "from __future__ import print_function\n",
                "from tkinter import HORIZONTAL\n",
                "\n",
                "from ipywidgets import interact, interactive, fixed, interact_manual\n",
                "import ipywidgets as widgets\n",
                "from IPython.display import display\n",
                "\n",
                "import cv2\n",
                "import numpy as np\n",
                "import tkinter as tk\n",
                "import matplotlib\n",
                "import matplotlib.pyplot as plt\n",
                "import ReadImage\n",
                "\n",
                "\n",
                "import rdflib as rdf\n",
                "import pytesseract\n",
                "import cv2\n",
                "import os\n",
                "from pathlib import Path\n",
                "\n",
                "\n",
                "class ReadImage:\n",
                "\n",
                "    def __init__(self):\n",
                "        pass\n",
                "\n",
                "    def read_file(self, pic, name, contours):\n",
                "        i = 0\n",
                "        j = 0\n",
                "        directory = cwd_decider(r'../recognized_texts')\n",
                "        os.chdir(directory)\n",
                "\n",
                "        file = open(\"recognized_\" + name + \".txt\", \"w+\") \n",
                "        file.write(\"\") \n",
                "        file.close() \n",
                "        pytesseract.pytesseract.tesseract_cmd = r'C:\\Program Files\\Tesseract-OCR\\tesseract.exe'\n",
                "        x0, y0, w0, h0 = cv2.boundingRect(contours[0])\n",
                "        \n",
                "#         alter = pytesseract.image_to_string(pic, lang='hun', config='--psm 6')\n",
                "#         hImg, wImg, _ = pic.shape\n",
                "#         boxes = pytesseract.image_to_boxes(pic)\n",
                "#         concatable = \"\"\n",
                "#         for b in boxes.splitlines():\n",
                "#             b = b.split(' ')\n",
                "#             concatable += \"\".join(b[0])\n",
                "#             x,y,w,h = int(b[1]), int(b[2]), int(b[3]), int(b[4])\n",
                "#             cv2.rectangle(pic, (x, hImg-y), (w, hImg-h), (0, 0, 255), 3)\n",
                "#             cv2.putText(pic, b[0], (x, hImg-y+25), cv2.FONT_HERSHEY_COMPLEX, 1, (50, 50 ,255), 2)\n",
                "            \n",
                "#         print(concatable)\n",
                "\n",
                "#         plt.imshow(pic)\n",
                "#         plt.show()\n",
                "\n",
                "        for cnt in contours: \n",
                "            x, y, w, h = cv2.boundingRect(cnt) \n",
                "\n",
                "            # Drawing a rectangle on copied image \n",
                "            rect = cv2.rectangle(pic, (x, y), (x + w, y + h), (0, 255, 0), 2) \n",
                "\n",
                "            # Cropping the text block for giving input to OCR \n",
                "            cropped = pic[y:y + h, x:x + w] \n",
                "\n",
                "            file = open(\"recognized_\" + name + \".txt\", \"a\")\n",
                "\n",
                "            # Apply OCR on the cropped image \n",
                "            text = pytesseract.image_to_string(cropped, config='--psm 6')\n",
                "\n",
                "        #     if text.isspace():\n",
                "            plt.imshow(cropped)\n",
                "        #     plt.show()\n",
                "            print(text)\n",
                "\n",
                "            while text.isspace():\n",
                "                print(\"ok\")\n",
                "                drag_low_sat.value -= i\n",
                "                change_arrays()\n",
                "                show_img(pic, name) \n",
                "                text = pytesseract.image_to_string(pic[y:y + h + i, x:x + w + j], config='--psm 6')\n",
                "                if not text.isspace() and y+h+i > y+h+(i-1):\n",
                "                    i+=1\n",
                "                if not text.isspace() and x+w+j > x+w+(j-1):\n",
                "                    j+=1\n",
                "            file.write(text) \n",
                "            if h0 < h:\n",
                "                file.write(\"\\n\") \n",
                "\n",
                "            # Close the file \n",
                "            file.close \n",
                "\n",
                "            \n",
                "    def encode(self, text):\n",
                "        print(text)\n",
                "\n",
                "\n",
                "        \n",
                "def init_images():\n",
                "    global img_array\n",
                "    if os.getcwd() != r'c:\\Users\\Ricsi\\PycharmProjects\\szakdolgozat\\ImageProcessing\\src':\n",
                "#         img_array = os.listdir(\"../../samples/images\")\n",
                "        _, _, img_array = next(os.walk(\"../../samples/images\"))\n",
                "        for i in range(len(img_array)):\n",
                "            img_array[i] = \"../../samples/images/\" + img_array[i]\n",
                "        return\n",
                "#     img_array = os.listdir(\"../samples/images\")\n",
                "    _, _, img_array = next(os.walk(\"../samples/images\"))\n",
                "    for i in range(len(img_array)):\n",
                "        img_array[i] = \"../samples/images/\" + img_array[i]\n",
                "\n",
                "        \n",
                "def cwd_decider(path):\n",
                "    print(path)\n",
                "    if os.getcwd() != r'c:\\Users\\Ricsi\\PycharmProjects\\szakdolgozat\\ImageProcessing\\src':\n",
                "        return path\n",
                "    return \"../samples/\" + path.replace(\"../\", \"\")\n",
                "        \n",
                "print(os.getcwd())\n",
                "img_array = []\n",
                "# img_array = [\"../../samples/images/Elohim.JPG\", \"../../samples/images/Egy hangon.JPG\"]\n",
                "init_images()\n",
                "#     print(Path(img_array[i]).is_file(), '||' + img_array[i])\n",
                "# print(img_array)\n",
                "r = ReadImage()\n",
                "\n",
                "drag_low_hue = widgets.IntSlider(description=\"Low HUE:\", min=0, max=179, value=86)\n",
                "drag_low_sat = widgets.IntSlider(description=\"Low Saturation:\", min=0, max=255, value=144)\n",
                "drag_low_bright = widgets.IntSlider(description=\"Low Brightness:\", min=0, max=255, value=43)\n",
                "drag_high_hue = widgets.IntSlider(description=\"High HUE:\", min=0, max=179, value=135)\n",
                "drag_high_sat = widgets.IntSlider(description=\"High Saturation:\", min=0, max=255, value=255)\n",
                "drag_high_bright = widgets.IntSlider(description=\"High Brightness:\", min=0, max=255, value=255)\n",
                "\n",
                "next_image_btn = widgets.Button(description=\"Next Image\")\n",
                "prev_image_btn = widgets.Button(description=\"Prev Image\")\n",
                "change_image_btn = widgets.Button(description=\"Change Image\")\n",
                "\n",
                "\n",
                "index = 0\n",
                "low_blue_arr = [86, 144, 43]\n",
                "high_blue_arr = [135, 255, 255]\n",
                "isItThreshold = False\n",
                "\n",
                "\n",
                "def show_img(this_img, imname):\n",
                "    print(os.getcwd())\n",
                "    directory = cwd_decider(r'../images/')\n",
                "    os.chdir(directory) \n",
                "    \n",
                "#     hsv = cv2.cvtColor(this_img, cv2.COLOR_BGR2HSV)\n",
                "#     gray = cv2.cvtColor(this_img, cv2.COLOR_BGR2GRAY)\n",
                "    lower_blue = np.array(low_blue_arr)\n",
                "    upper_blue = np.array(high_blue_arr)\n",
                "\n",
                "#     mask = cv2.inRange(hsv, lower_blue, upper_blue)\n",
                "#     del_mask = cv2.inRange(hsv, np.array([0,0,0]), np.array([0,220,220]))\n",
                "#     if not isItThreshold:\n",
                "#         res = cv2.bitwise_or(this_img, this_img, mask=mask)\n",
                "#     else:\n",
                "#         ret, thresh = cv2.threshold(gray, 0, 255, cv2.THRESH_OTSU | cv2.THRESH_BINARY_INV)\n",
                "#         thresh = cv2.adaptiveThreshold(mask, 120, cv2.ADAPTIVE_THRESH_GAUSSIAN_C, cv2.THRESH_BINARY, 3, 4)\n",
                "#         res = cv2.bitwise_or(this_img, this_img, mask=mask)\n",
                "#         res = cv2.bitwise_or(this_img, this_img, mask=thresh)\n",
                "#         res = cv2.bitwise_not(this_img, this_img, mask=del_mask)\n",
                "\n",
                "    title = img_array[index][21:]\n",
                "    \n",
                "    # Convert the image to gray scale \n",
                "    hsv = cv2.cvtColor(this_img, cv2.COLOR_BGR2HSV)\n",
                "\n",
                "    mask = cv2.inRange(hsv, lower_blue, upper_blue)\n",
                "\n",
                "    # Performing OTSU threshold \n",
                "    mask_inv = cv2.bitwise_not(mask)\n",
                "    ret, thresh1 = cv2.threshold(mask, 0, 255, cv2.THRESH_OTSU | cv2.THRESH_BINARY) \n",
                "\n",
                "\n",
                "    # Specify structure shape and kernel size.  \n",
                "    # Kernel size increases or decreases the area  \n",
                "    # of the rectangle to be detected. \n",
                "    # A smaller value like (10, 10) will detect  \n",
                "    # each word instead of a sentence. \n",
                "    rect_kernel = cv2.getStructuringElement(cv2.MORPH_RECT, (28, 28)) \n",
                "\n",
                "    # Appplying dilation on the threshold image \n",
                "    dilation = cv2.dilate(thresh1, rect_kernel, iterations = 1) \n",
                "\n",
                "    # Finding contours \n",
                "    contours, hierarchy = cv2.findContours(dilation, cv2.RETR_LIST, cv2.CHAIN_APPROX_SIMPLE) \n",
                "\n",
                "#     plt.imshow(this_img)\n",
                "#     plt.imshow(res)\n",
                "#     plt.imshow(cv2.bitwise_or(res, this_img))\n",
                "#     cv2.imwrite('test.jpg', res)\n",
                "#     plt.show()\n",
                "    r.read_file(thresh1, title, contours)\n",
                "    return\n",
                "\n",
                "\n",
                "def change_arrays():\n",
                "    global low_blue_arr, high_blue_arr\n",
                "    low_blue_arr = [drag_low_hue.value, drag_low_sat.value, drag_low_bright.value]\n",
                "    high_blue_arr = [drag_high_hue.value, drag_high_sat.value, drag_high_bright.value]\n",
                "    print(low_blue_arr, high_blue_arr)\n",
                "\n",
                "\n",
                "def next_image(b):\n",
                "    change_arrays()\n",
                "    init_images()\n",
                "    cv2.destroyAllWindows()\n",
                "    global index\n",
                "    if len(img_array)-1 > index:\n",
                "        index += 1\n",
                "    stream = open(img_array[index], \"rb\")\n",
                "    bytes = bytearray(stream.read())\n",
                "    numpyarray = np.asarray(bytes, dtype=np.uint8)\n",
                "    _thisImg = cv2.imdecode(numpyarray, cv2.IMREAD_UNCHANGED)\n",
                "#     _thisImg = cv2.imread(bgrImage)\n",
                "#     print(bgrImage)\n",
                "    show_img(_thisImg, img_array[index])\n",
                "\n",
                "    return\n",
                "\n",
                "\n",
                "def prev_image(b):\n",
                "    change_arrays()\n",
                "    cv2.destroyAllWindows()\n",
                "    global index\n",
                "    if index > 0:\n",
                "        index -= 1\n",
                "    stream = open(img_array[index], \"rb\")\n",
                "    bytes = bytearray(stream.read())\n",
                "    numpyarray = np.asarray(bytes, dtype=np.uint8)\n",
                "    _thisImg = cv2.imdecode(numpyarray, cv2.IMREAD_UNCHANGED)\n",
                "    print(img_array[index])\n",
                "    show_img(_thisImg, img_array[index])\n",
                "    return\n",
                "\n",
                "\n",
                "def change(b):\n",
                "    change_arrays()\n",
                "    global isItThreshold\n",
                "    cv2.destroyAllWindows()\n",
                "    _thisImg = cv2.imread(img_array[index])\n",
                "    if isItThreshold:\n",
                "        isItThreshold = False\n",
                "        show_img(_thisImg, img_array[index])\n",
                "        return\n",
                "    isItThreshold = True\n",
                "    show_img(_thisImg, img_array[index])\n",
                "\n",
                "next_image_btn.on_click(next_image)\n",
                "prev_image_btn.on_click(prev_image)\n",
                "change_image_btn.on_click(change)\n",
                "display(next_image_btn, prev_image_btn, change_image_btn)\n",
                "display(drag_low_hue, drag_low_sat, drag_low_bright, drag_high_hue, drag_high_sat, drag_high_bright)\n",
                "\n",
                "# while True:\n",
                "#     k=cv2.waitKey(30)\n",
                "#     if k==27:\n",
                "#         break\n"
            ]
        },
        {
            "cell_type": "code",
            "execution_count": 1,
            "metadata": {},
            "outputs": [],
            "source": [
                "from __future__ import print_function\n",
                "from tkinter import HORIZONTAL\n",
                "\n",
                "from ipywidgets import interact, interactive, fixed, interact_manual\n",
                "import ipywidgets as widgets\n",
                "from IPython.display import display\n",
                "\n",
                "import cv2\n",
                "import numpy as np\n",
                "import tkinter as tk\n",
                "import matplotlib\n",
                "import matplotlib.pyplot as plt\n",
                "\n",
                "\n",
                "import rdflib as rdf\n",
                "import pytesseract\n",
                "import cv2\n",
                "import os\n",
                "from pathlib import Path"
            ]
        },
        {
            "cell_type": "code",
            "execution_count": 75,
            "metadata": {},
            "outputs": [],
            "source": [
                "index = 0\n",
                "low_blue_arr = [86, 144, 43]\n",
                "high_blue_arr = [135, 255, 255]\n",
                "im_path = r'../samples/images/Tied a dicsőség.JPG'"
            ]
        },
        {
            "cell_type": "code",
            "execution_count": 76,
            "metadata": {},
            "outputs": [],
            "source": [
                "stream = open(im_path, \"rb\")\n",
                "bytes = bytearray(stream.read())\n",
                "numpyarray = np.asarray(bytes, dtype=np.uint8)\n",
                "this_img = cv2.imdecode(numpyarray, cv2.IMREAD_UNCHANGED)"
            ]
        },
        {
            "cell_type": "code",
            "execution_count": 85,
            "metadata": {},
            "outputs": [],
            "source": [
                "def read_file(pic, name, contours):\n",
                "    i = 0\n",
                "    j = 0\n",
                "    file = open(\"recognized_\" + name + \".txt\", \"w+\") \n",
                "    file.write(\"\") \n",
                "    file.close() \n",
                "    pytesseract.pytesseract.tesseract_cmd = r'C:\\Program Files\\Tesseract-OCR\\tesseract.exe'\n",
                "    x0, y0, w0, h0 = cv2.boundingRect(contours[0])\n",
                "    \n",
                "#         alter = pytesseract.image_to_string(pic, lang='hun', config='--psm 6')\n",
                "#         hImg, wImg, _ = pic.shape\n",
                "#         boxes = pytesseract.image_to_boxes(pic)\n",
                "#         concatable = \"\"\n",
                "#         for b in boxes.splitlines():\n",
                "#             b = b.split(' ')\n",
                "#             concatable += \"\".join(b[0])\n",
                "#             x,y,w,h = int(b[1]), int(b[2]), int(b[3]), int(b[4])\n",
                "#             cv2.rectangle(pic, (x, hImg-y), (w, hImg-h), (0, 0, 255), 3)\n",
                "#             cv2.putText(pic, b[0], (x, hImg-y+25), cv2.FONT_HERSHEY_COMPLEX, 1, (50, 50 ,255), 2)\n",
                "        \n",
                "#         print(concatable)\n",
                "\n",
                "#         plt.imshow(pic)\n",
                "#         plt.show()\n",
                "    counterpls = 2\n",
                "    for cnt in contours: \n",
                "        x, y, w, h = cv2.boundingRect(cnt) \n",
                "\n",
                "        # Drawing a rectangle on copied image \n",
                "        rect = cv2.rectangle(pic, (x, y), (x + w, y + h), (0, 255, 0), 2) \n",
                "\n",
                "        # Cropping the text block for giving input to OCR \n",
                "        cropped = pic[y:y + h, x:x + w] \n",
                "\n",
                "        file = open(\"recognized_\" + name + \".txt\", \"a\")\n",
                "\n",
                "        # Apply OCR on the cropped image \n",
                "        text = pytesseract.image_to_string(cropped, config='--psm 6')\n",
                "\n",
                "    #     if text.isspace():\n",
                "        plt.rcParams['figure.figsize'] = [16,14]\n",
                "        plt.imshow(cropped)\n",
                "        plt.savefig(rf'../samples/recognized_texts/images/{name}_{counterpls}.png')\n",
                "        counterpls += 1\n",
                "\n",
                "    #     plt.show()\n",
                "        # print(text)\n",
                "\n",
                "        while text.isspace():\n",
                "            print(\"ok\")\n",
                "            drag_low_sat.value -= i\n",
                "            change_arrays()\n",
                "            show_img(pic, name) \n",
                "            text = pytesseract.image_to_string(pic[y:y + h + i, x:x + w + j], config='--psm 6')\n",
                "            if not text.isspace() and y+h+i > y+h+(i-1):\n",
                "                i+=1\n",
                "            if not text.isspace() and x+w+j > x+w+(j-1):\n",
                "                j+=1\n",
                "        file.write(text) \n",
                "        if h0 < h:\n",
                "            file.write(\"\\n\") \n",
                "\n",
                "        # Close the file \n",
                "        file.close "
            ]
        },
        {
            "cell_type": "code",
            "execution_count": 87,
            "metadata": {},
            "outputs": [],
            "source": [
                "def show_img(pic = this_img):\n",
                "    lower_blue = np.array(low_blue_arr)\n",
                "    upper_blue = np.array(high_blue_arr)\n",
                "\n",
                "    # Convert the image to gray scale \n",
                "    hsv = cv2.cvtColor(pic, cv2.COLOR_BGR2HSV)\n",
                "\n",
                "    mask = cv2.inRange(hsv, lower_blue, upper_blue)\n",
                "\n",
                "        # Performing OTSU threshold \n",
                "    mask_inv = cv2.bitwise_not(mask)\n",
                "    ret, thresh1 = cv2.threshold(mask, 0, 255, cv2.THRESH_OTSU | cv2.THRESH_BINARY)\n",
                "    rect_kernel = cv2.getStructuringElement(cv2.MORPH_RECT, (28, 28)) \n",
                "\n",
                "        # Appplying dilation on the threshold image \n",
                "    dilation = cv2.dilate(mask, rect_kernel, iterations = 1) \n",
                "\n",
                "        # Finding contours \n",
                "    contours, hierarchy = cv2.findContours(dilation, cv2.RETR_LIST, cv2.CHAIN_APPROX_SIMPLE)\n",
                "\n",
                "    read_file(thresh1, im_path[18:].replace('.JPG', ''), contours)"
            ]
        },
        {
            "cell_type": "code",
            "execution_count": 88,
            "metadata": {},
            "outputs": [
                {
                    "data": {
                        "image/png": "[encoded data removed]",
                        "text/plain": [
                            "<Figure size 1152x1008 with 1 Axes>"
                        ]
                    },
                    "metadata": {
                        "needs_background": "light"
                    },
                    "output_type": "display_data"
                }
            ],
            "source": [
                "show_img(this_img)"
            ]
        }
    ],
    "metadata": {
        "interpreter": {
            "hash": "4bffe14bc1956b695b9572ab9e3e3950ba77dbb23140b0e9a8e8648e246be6d7"
        },
        "kernelspec": {
            "display_name": "Python 3.9.1 64-bit ('szakdoga': venv)",
            "name": "python3"
        },
        "language_info": {
            "codemirror_mode": {
                "name": "ipython",
                "version": 3
            },
            "file_extension": ".py",
            "mimetype": "text/x-python",
            "name": "python",
            "nbconvert_exporter": "python",
            "pygments_lexer": "ipython3",
            "version": "3.9.1"
        },
        "toc-showcode": true
    },
    "nbformat": 4,
    "nbformat_minor": 2
}
