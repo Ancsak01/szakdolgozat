{
 "cells": [
  {
   "cell_type": "code",
   "execution_count": 1,
   "metadata": {},
   "outputs": [],
   "source": [
    "import cv2\n",
    "import numpy as np\n",
    "import matplotlib\n",
    "import matplotlib.pyplot as plt\n",
    "\n",
    "\n",
    "import rdflib as rdf\n",
    "import pytesseract\n",
    "import os\n",
    "from pathlib import Path"
   ]
  },
  {
   "cell_type": "code",
   "execution_count": 2,
   "metadata": {},
   "outputs": [],
   "source": [
    "index = 0\n",
    "low_blue_arr = [86, 144, 43]\n",
    "high_blue_arr = [135, 255, 255]\n",
    "im_path = r'../samples/images/27. zsoltár.JPG'"
   ]
  },
  {
   "cell_type": "code",
   "execution_count": 3,
   "metadata": {},
   "outputs": [],
   "source": [
    "stream = open(im_path, \"rb\")\n",
    "bytes = bytearray(stream.read())\n",
    "numpyarray = np.asarray(bytes, dtype=np.uint8)\n",
    "this_img = cv2.imdecode(numpyarray, cv2.IMREAD_UNCHANGED)"
   ]
  },
  {
   "cell_type": "code",
   "execution_count": 4,
   "metadata": {},
   "outputs": [],
   "source": [
    "def read_file(pic, name, contours):\n",
    "    i = 0\n",
    "    j = 0\n",
    "    file = open(\"recognized_\" + name + \".txt\", \"w+\") \n",
    "    file.write(\"\") \n",
    "    file.close() \n",
    "    pytesseract.pytesseract.tesseract_cmd = r'../../szakdoga/Tesseract-OCR/tesseract.exe'\n",
    "    x0, y0, w0, h0 = cv2.boundingRect(contours[0])\n",
    "    \n",
    "#         alter = pytesseract.image_to_string(pic, lang='hun', config='--psm 6')\n",
    "#         hImg, wImg, _ = pic.shape\n",
    "#         boxes = pytesseract.image_to_boxes(pic)\n",
    "#         concatable = \"\"\n",
    "#         for b in boxes.splitlines():\n",
    "#             b = b.split(' ')\n",
    "#             concatable += \"\".join(b[0])\n",
    "#             x,y,w,h = int(b[1]), int(b[2]), int(b[3]), int(b[4])\n",
    "#             cv2.rectangle(pic, (x, hImg-y), (w, hImg-h), (0, 0, 255), 3)\n",
    "#             cv2.putText(pic, b[0], (x, hImg-y+25), cv2.FONT_HERSHEY_COMPLEX, 1, (50, 50 ,255), 2)\n",
    "        \n",
    "#         print(concatable)\n",
    "\n",
    "#         plt.imshow(pic)\n",
    "#         plt.show()\n",
    "    counterpls = 2\n",
    "    for cnt in contours: \n",
    "        x, y, w, h = cv2.boundingRect(cnt) \n",
    "\n",
    "        # Drawing a rectangle on copied image \n",
    "        rect = cv2.rectangle(pic, (x, y), (x + w, y + h), (0, 255, 0), 2)\n",
    "\n",
    "        # Cropping the text block for giving input to OCR \n",
    "        cropped = pic[y:y + h, x:x + w]\n",
    "\n",
    "        file = open(\"recognized_\" + name + \".txt\", \"a\")\n",
    "\n",
    "        # Apply OCR on the cropped image \n",
    "        text = pytesseract.image_to_string(cropped, config='--psm 6')\n",
    "\n",
    "        plt.rcParams['figure.figsize'] = [16,14]\n",
    "        plt.imshow(cropped)\n",
    "        plt.savefig(rf'../samples/recognized_texts/images/{name}_{counterpls}.png')\n",
    "        counterpls += 1\n",
    "\n",
    "        #plt.show()\n",
    "        # print(text)\n",
    "\n",
    "        while text.isspace():\n",
    "            print(\"ok\")\n",
    "            drag_low_sat.value -= i\n",
    "            change_arrays()\n",
    "            show_img(pic, name) \n",
    "            text = pytesseract.image_to_string(pic[y:y + h + i, x:x + w + j], config='--psm 6')\n",
    "            if not text.isspace() and y+h+i > y+h+(i-1):\n",
    "                i+=1\n",
    "            if not text.isspace() and x+w+j > x+w+(j-1):\n",
    "                j+=1\n",
    "        file.write(text) \n",
    "        if h0 < h:\n",
    "            file.write(\"\\n\") \n",
    "\n",
    "        # Close the file \n",
    "        file.close "
   ]
  },
  {
   "cell_type": "code",
   "execution_count": 5,
   "metadata": {},
   "outputs": [],
   "source": [
    "def show_img(pic = this_img):\n",
    "    lower_blue = np.array(low_blue_arr)\n",
    "    upper_blue = np.array(high_blue_arr)\n",
    "\n",
    "    # Convert the image to gray scale \n",
    "    hsv = cv2.cvtColor(pic, cv2.COLOR_BGR2HSV)\n",
    "\n",
    "    mask = cv2.inRange(hsv, lower_blue, upper_blue)\n",
    "\n",
    "        # Performing OTSU threshold \n",
    "    mask_inv = cv2.bitwise_not(mask)\n",
    "    ret, thresh1 = cv2.threshold(mask, 0, 255, cv2.THRESH_OTSU | cv2.THRESH_BINARY)\n",
    "    rect_kernel = cv2.getStructuringElement(cv2.MORPH_RECT, (28, 28)) \n",
    "\n",
    "        # Appplying dilation on the threshold image \n",
    "    dilation = cv2.dilate(mask, rect_kernel, iterations = 1) \n",
    "\n",
    "        # Finding contours \n",
    "    contours, hierarchy = cv2.findContours(dilation, cv2.RETR_LIST, cv2.CHAIN_APPROX_SIMPLE)\n",
    "\n",
    "    read_file(thresh1, im_path[18:].replace('.JPG', ''), contours)"
   ]
  },
  {
   "cell_type": "code",
   "execution_count": 6,
   "metadata": {},
   "outputs": [
    {
     "data": {
      "image/png": "[encoded data removed]",
      "text/plain": [
       "<Figure size 1152x1008 with 1 Axes>"
      ]
     },
     "metadata": {
      "needs_background": "light"
     },
     "output_type": "display_data"
    }
   ],
   "source": [
    "show_img(this_img)"
   ]
  },
  {
   "cell_type": "code",
   "execution_count": 33,
   "metadata": {},
   "outputs": [
    {
     "name": "stdout",
     "output_type": "stream",
     "text": [
      "Cc F Am D\n",
      "Vilagossagom és segitségem Te vagy, Uram — kit6l félnék?\n",
      "\n",
      "Cc F Am Gsus G\n",
      "\n",
      "Eletem ereje csak Te vagy — miért rettegnék?\n",
      "\n",
      "F G FIA G/H Gsus\n",
      "\n",
      "Megovsz engem a veszedelemben, elrejtesz szarnyaid ala...\n",
      "\n",
      "C (D) G (A) Am (Hm) Fsus F (Gsus G)\n",
      "Csak egyetlen vagyam van, hogy lakhassam hazadban életem idején.\n",
      "\n",
      "C (D) G/H (A/C#) Am (Hm) F(G) (G)\n",
      "\n",
      "Labadnal hadd id6zzek el, és gyOnyorkédjek Benned, amig csak élek én (6rdkké)\n",
      "Felemelted fejem, s mikor hivtalak, Te meghallgattal.\n",
      "\n",
      "Sziklara allitottal, minden bajbol kimentettél, ezért szivem Téged ald!\n",
      "\n",
      "Er6és karoddal vezetsz, s mindenben gy6ztessé teszel...\n",
      "\n",
      "Am F Cc G Am\n",
      "Kezem kitarom Feléd, mindenem a Tiéd,szivemb6I bizom Benned,megtartod életemet.\n",
      "F Cc\n",
      "Hiiséged pajzsom, s pancélom, Te vigyazol ram!\n",
      "G Am (F)\n",
      "Ha ellenség tamadna meg, tudom, hogy mellettem allsz! 2x\n",
      "A GI/H A/Cis G/D AIE G D\n",
      "\n",
      "VEGE: _ ...6r6kké, ordkké, 6rdkké, 6r6kké\n",
      "\f",
      "\n"
     ]
    }
   ],
   "source": [
    "pytesseract.pytesseract.tesseract_cmd = r'../../szakdoga/Tesseract-OCR/tesseract.exe'\n",
    "print(pytesseract.image_to_string(this_img))"
   ]
  }
 ],
 "metadata": {
  "interpreter": {
   "hash": "4bffe14bc1956b695b9572ab9e3e3950ba77dbb23140b0e9a8e8648e246be6d7"
  },
  "kernelspec": {
   "display_name": "Python 3 (ipykernel)",
   "language": "python",
   "name": "python3"
  },
  "language_info": {
   "codemirror_mode": {
    "name": "ipython",
    "version": 3
   },
   "file_extension": ".py",
   "mimetype": "text/x-python",
   "name": "python",
   "nbconvert_exporter": "python",
   "pygments_lexer": "ipython3",
   "version": "3.9.1"
  },
  "toc-showcode": true
 },
 "nbformat": 4,
 "nbformat_minor": 2
}
