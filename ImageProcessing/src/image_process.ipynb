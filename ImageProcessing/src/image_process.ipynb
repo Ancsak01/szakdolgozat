{
 "cells": [
  {
   "cell_type": "code",
   "execution_count": 3,
   "metadata": {},
   "outputs": [],
   "source": [
    "import cv2\n",
    "import numpy as np\n",
    "import matplotlib\n",
    "import matplotlib.pyplot as plt\n",
    "\n",
    "\n",
    "import rdflib as rdf\n",
    "import pytesseract\n",
    "import os\n",
    "from pathlib import Path"
   ]
  },
  {
   "cell_type": "code",
   "execution_count": 57,
   "metadata": {},
   "outputs": [],
   "source": [
    "index = 0\n",
    "low_blue_arr = [86, 144, 43]\n",
    "high_blue_arr = [135, 255, 255]\n",
    "im_path = r'../samples/images/Tied a dicsőség.JPG'"
   ]
  },
  {
   "cell_type": "code",
   "execution_count": 58,
   "metadata": {},
   "outputs": [],
   "source": [
    "stream = open(im_path, \"rb\")\n",
    "bytes = bytearray(stream.read())\n",
    "numpyarray = np.asarray(bytes, dtype=np.uint8)\n",
    "this_img = cv2.imdecode(numpyarray, cv2.IMREAD_UNCHANGED)"
   ]
  },
  {
   "cell_type": "code",
   "execution_count": 107,
   "metadata": {},
   "outputs": [],
   "source": [
    "def read_file(pic, name, contours):\n",
    "    i = 0\n",
    "    j = 0\n",
    "    file = open(\"recognized_\" + name + \".txt\", \"w+\") \n",
    "    file.write(\"\") \n",
    "    file.close() \n",
    "    pytesseract.pytesseract.tesseract_cmd = r'../../szakdoga/Tesseract-OCR/tesseract.exe'\n",
    "    x0, y0, w0, h0 = cv2.boundingRect(contours[0])\n",
    "    \n",
    "#         alter = pytesseract.image_to_string(pic, lang='hun', config='--psm 6')\n",
    "#         hImg, wImg, _ = pic.shape\n",
    "#         boxes = pytesseract.image_to_boxes(pic)\n",
    "#         concatable = \"\"\n",
    "#         for b in boxes.splitlines():\n",
    "#             b = b.split(' ')\n",
    "#             concatable += \"\".join(b[0])\n",
    "#             x,y,w,h = int(b[1]), int(b[2]), int(b[3]), int(b[4])\n",
    "#             cv2.rectangle(pic, (x, hImg-y), (w, hImg-h), (0, 0, 255), 3)\n",
    "#             cv2.putText(pic, b[0], (x, hImg-y+25), cv2.FONT_HERSHEY_COMPLEX, 1, (50, 50 ,255), 2)\n",
    "        \n",
    "#         print(concatable)\n",
    "\n",
    "#         plt.imshow(pic)\n",
    "#         plt.show()\n",
    "    counterpls = 2\n",
    "    for cnt in contours: \n",
    "        x, y, w, h = cv2.boundingRect(cnt) \n",
    "\n",
    "        # Drawing a rectangle on copied image \n",
    "        rect = cv2.rectangle(pic, (x, y), (x + w, y + h), (0, 255, 0), 2)\n",
    "\n",
    "        # Cropping the text block for giving input to OCR \n",
    "        cropped = pic[y:y + h, x:x + w]\n",
    "\n",
    "        file = open(\"recognized_\" + name + \".txt\", \"a\")\n",
    "\n",
    "        # Apply OCR on the cropped image \n",
    "        text = pytesseract.image_to_string(cropped, config='--psm 6')\n",
    "\n",
    "        #plt.rcParams['figure.figsize'] = [16,14]\n",
    "        plt.imshow(cropped)\n",
    "        #plt.savefig(rf'../samples/recognized_texts/images/{name}_{counterpls}.png')\n",
    "        counterpls += 1\n",
    "\n",
    "        #plt.show()\n",
    "        # print(text)\n",
    "\n",
    "        while text.isspace():\n",
    "            print(\"ok\")\n",
    "            drag_low_sat.value -= i\n",
    "            change_arrays()\n",
    "            show_img(pic, name) \n",
    "            text = pytesseract.image_to_string(pic[y:y + h + i, x:x + w + j], config='--psm 6')\n",
    "            if not text.isspace() and y+h+i > y+h+(i-1):\n",
    "                i+=1\n",
    "            if not text.isspace() and x+w+j > x+w+(j-1):\n",
    "                j+=1\n",
    "        file.write(text) \n",
    "        if h0 < h:\n",
    "            file.write(\"\\n\") \n",
    "\n",
    "        # Close the file \n",
    "        file.close "
   ]
  },
  {
   "cell_type": "code",
   "execution_count": 110,
   "metadata": {},
   "outputs": [],
   "source": [
    "def show_img(pic = this_img):\n",
    "    lower_blue = np.array(low_blue_arr)\n",
    "    upper_blue = np.array(high_blue_arr)\n",
    "\n",
    "    # Convert the image to gray scale \n",
    "    hsv = cv2.cvtColor(pic, cv2.COLOR_BGR2HSV)\n",
    "\n",
    "    # plt.rcParams['figure.figsize'] = [16,14]\n",
    "    # plt.show(hsv)\n",
    "    # plt.savefig(rf'../samples/recognized_texts/images/hsv_image.png')\n",
    "\n",
    "    mask = cv2.inRange(hsv, lower_blue, upper_blue)\n",
    "\n",
    "        # Performing OTSU threshold \n",
    "    mask_inv = cv2.bitwise_not(mask)\n",
    "    ret, thresh1 = cv2.threshold(mask, 0, 255, cv2.THRESH_OTSU |cv2.THRESH_OTSU)\n",
    "    rect_kernel = cv2.getStructuringElement(cv2.MORPH_RECT, (28, 28)) \n",
    "\n",
    "    # Appplying dilation on the threshold image \n",
    "    dilation = cv2.dilate(mask, rect_kernel, iterations = 1) \n",
    "\n",
    "    # Finding contours \n",
    "    contours, hierarchy = cv2.findContours(dilation, cv2.RETR_LIST, cv2.CHAIN_APPROX_SIMPLE)\n",
    "    plt.imshow(dilation)\n",
    "    # plt.imsave(arr=hsv, fname=rf'../samples/recognized_texts/images/hsv_image.png')\n",
    "\n",
    "    # read_file(thresh1, im_path[18:].replace('.JPG', ''), contours)"
   ]
  },
  {
   "cell_type": "code",
   "execution_count": 109,
   "metadata": {},
   "outputs": [
    {
     "data": {
      "image/png": "[encoded data removed]",
      "text/plain": [
       "<Figure size 1152x1008 with 1 Axes>"
      ]
     },
     "metadata": {
      "needs_background": "light"
     },
     "output_type": "display_data"
    }
   ],
   "source": [
    "show_img(this_img)"
   ]
  }
 ],
 "metadata": {
  "interpreter": {
   "hash": "4bffe14bc1956b695b9572ab9e3e3950ba77dbb23140b0e9a8e8648e246be6d7"
  },
  "kernelspec": {
   "display_name": "Python 3 (ipykernel)",
   "language": "python",
   "name": "python3"
  },
  "language_info": {
   "codemirror_mode": {
    "name": "ipython",
    "version": 3
   },
   "file_extension": ".py",
   "mimetype": "text/x-python",
   "name": "python",
   "nbconvert_exporter": "python",
   "pygments_lexer": "ipython3",
   "version": "3.9.1"
  },
  "toc-showcode": true
 },
 "nbformat": 4,
 "nbformat_minor": 2
}
