{
 "cells": [
  {
   "cell_type": "code",
   "execution_count": 1,
   "id": "absolute-athens",
   "metadata": {},
   "outputs": [
    {
     "name": "stdout",
     "output_type": "stream",
     "text": [
      "c:\\Users\\Ricsi\\PycharmProjects\\szakdolgozat\\ImageProcessing\\src\n"
     ]
    },
    {
     "data": {
      "application/vnd.jupyter.widget-view+json": {
       "model_id": "224482d6cdb945738b5389a36411ae13",
       "version_major": 2,
       "version_minor": 0
      },
      "text/plain": [
       "Button(description='Next Image', style=ButtonStyle())"
      ]
     },
     "metadata": {},
     "output_type": "display_data"
    },
    {
     "data": {
      "application/vnd.jupyter.widget-view+json": {
       "model_id": "37566316d8494520a8cafbe94f155616",
       "version_major": 2,
       "version_minor": 0
      },
      "text/plain": [
       "Button(description='Prev Image', style=ButtonStyle())"
      ]
     },
     "metadata": {},
     "output_type": "display_data"
    },
    {
     "data": {
      "application/vnd.jupyter.widget-view+json": {
       "model_id": "27a3e8115c91488caaf5e9ee29d1c219",
       "version_major": 2,
       "version_minor": 0
      },
      "text/plain": [
       "Button(description='Change Image', style=ButtonStyle())"
      ]
     },
     "metadata": {},
     "output_type": "display_data"
    },
    {
     "data": {
      "application/vnd.jupyter.widget-view+json": {
       "model_id": "8fa839b8e7d5483193a514f17fa989a6",
       "version_major": 2,
       "version_minor": 0
      },
      "text/plain": [
       "IntSlider(value=86, description='Low HUE:', max=179)"
      ]
     },
     "metadata": {},
     "output_type": "display_data"
    },
    {
     "data": {
      "application/vnd.jupyter.widget-view+json": {
       "model_id": "0c8e1b81b849410b84b59e1247fb4f1f",
       "version_major": 2,
       "version_minor": 0
      },
      "text/plain": [
       "IntSlider(value=144, description='Low Saturation:', max=255)"
      ]
     },
     "metadata": {},
     "output_type": "display_data"
    },
    {
     "data": {
      "application/vnd.jupyter.widget-view+json": {
       "model_id": "d0eaf17c52a44b28a247534eec53db6a",
       "version_major": 2,
       "version_minor": 0
      },
      "text/plain": [
       "IntSlider(value=43, description='Low Brightness:', max=255)"
      ]
     },
     "metadata": {},
     "output_type": "display_data"
    },
    {
     "data": {
      "application/vnd.jupyter.widget-view+json": {
       "model_id": "b785063f8c9140c9ba30963b631b840a",
       "version_major": 2,
       "version_minor": 0
      },
      "text/plain": [
       "IntSlider(value=135, description='High HUE:', max=179)"
      ]
     },
     "metadata": {},
     "output_type": "display_data"
    },
    {
     "data": {
      "application/vnd.jupyter.widget-view+json": {
       "model_id": "628abb942199409da2cd5a7631de13d4",
       "version_major": 2,
       "version_minor": 0
      },
      "text/plain": [
       "IntSlider(value=255, description='High Saturation:', max=255)"
      ]
     },
     "metadata": {},
     "output_type": "display_data"
    },
    {
     "data": {
      "application/vnd.jupyter.widget-view+json": {
       "model_id": "493e9af67368498388dfbdd52aba2c17",
       "version_major": 2,
       "version_minor": 0
      },
      "text/plain": [
       "IntSlider(value=255, description='High Brightness:', max=255)"
      ]
     },
     "metadata": {},
     "output_type": "display_data"
    }
   ],
   "source": [
    "from __future__ import print_function\n",
    "from tkinter import HORIZONTAL\n",
    "\n",
    "from ipywidgets import interact, interactive, fixed, interact_manual\n",
    "import ipywidgets as widgets\n",
    "from IPython.display import display\n",
    "\n",
    "import cv2\n",
    "import numpy as np\n",
    "import tkinter as tk\n",
    "import matplotlib\n",
    "import matplotlib.pyplot as plt\n",
    "import ReadImage\n",
    "\n",
    "\n",
    "import rdflib as rdf\n",
    "import pytesseract\n",
    "import cv2\n",
    "import os\n",
    "from pathlib import Path\n",
    "\n",
    "\n",
    "class ReadImage:\n",
    "\n",
    "    def __init__(self):\n",
    "        pass\n",
    "\n",
    "    def read_file(self, pic, name, contours):\n",
    "        i = 0\n",
    "        j = 0\n",
    "        directory = cwd_decider(r'../recognized_texts')\n",
    "        os.chdir(directory)\n",
    "\n",
    "        file = open(\"recognized_\" + name + \".txt\", \"w+\") \n",
    "        file.write(\"\") \n",
    "        file.close() \n",
    "        pytesseract.pytesseract.tesseract_cmd = r'C:\\Program Files\\Tesseract-OCR\\tesseract.exe'\n",
    "        x0, y0, w0, h0 = cv2.boundingRect(contours[0])\n",
    "        \n",
    "#         alter = pytesseract.image_to_string(pic, lang='hun', config='--psm 6')\n",
    "#         hImg, wImg, _ = pic.shape\n",
    "#         boxes = pytesseract.image_to_boxes(pic)\n",
    "#         concatable = \"\"\n",
    "#         for b in boxes.splitlines():\n",
    "#             b = b.split(' ')\n",
    "#             concatable += \"\".join(b[0])\n",
    "#             x,y,w,h = int(b[1]), int(b[2]), int(b[3]), int(b[4])\n",
    "#             cv2.rectangle(pic, (x, hImg-y), (w, hImg-h), (0, 0, 255), 3)\n",
    "#             cv2.putText(pic, b[0], (x, hImg-y+25), cv2.FONT_HERSHEY_COMPLEX, 1, (50, 50 ,255), 2)\n",
    "            \n",
    "#         print(concatable)\n",
    "\n",
    "#         plt.imshow(pic)\n",
    "#         plt.show()\n",
    "\n",
    "        for cnt in contours: \n",
    "            x, y, w, h = cv2.boundingRect(cnt) \n",
    "\n",
    "            # Drawing a rectangle on copied image \n",
    "            rect = cv2.rectangle(pic, (x, y), (x + w, y + h), (0, 255, 0), 2) \n",
    "\n",
    "            # Cropping the text block for giving input to OCR \n",
    "            cropped = pic[y:y + h, x:x + w] \n",
    "\n",
    "            file = open(\"recognized_\" + name + \".txt\", \"a\")\n",
    "\n",
    "            # Apply OCR on the cropped image \n",
    "            text = pytesseract.image_to_string(cropped, config='--psm 6')\n",
    "\n",
    "        #     if text.isspace():\n",
    "            plt.imshow(cropped)\n",
    "        #     plt.show()\n",
    "            print(text)\n",
    "\n",
    "            while text.isspace():\n",
    "                print(\"ok\")\n",
    "                drag_low_sat.value -= i\n",
    "                change_arrays()\n",
    "                show_img(pic, name) \n",
    "                text = pytesseract.image_to_string(pic[y:y + h + i, x:x + w + j], config='--psm 6')\n",
    "                if not text.isspace() and y+h+i > y+h+(i-1):\n",
    "                    i+=1\n",
    "                if not text.isspace() and x+w+j > x+w+(j-1):\n",
    "                    j+=1\n",
    "            file.write(text) \n",
    "            if h0 < h:\n",
    "                file.write(\"\\n\") \n",
    "\n",
    "            # Close the file \n",
    "            file.close \n",
    "\n",
    "            \n",
    "    def encode(self, text):\n",
    "        print(text)\n",
    "\n",
    "\n",
    "        \n",
    "def init_images():\n",
    "    global img_array\n",
    "    if os.getcwd() != r'c:\\Users\\Ricsi\\PycharmProjects\\szakdolgozat\\ImageProcessing\\src':\n",
    "#         img_array = os.listdir(\"../../samples/images\")\n",
    "        _, _, img_array = next(os.walk(\"../../samples/images\"))\n",
    "        for i in range(len(img_array)):\n",
    "            img_array[i] = \"../../samples/images/\" + img_array[i]\n",
    "        return\n",
    "#     img_array = os.listdir(\"../samples/images\")\n",
    "    _, _, img_array = next(os.walk(\"../samples/images\"))\n",
    "    for i in range(len(img_array)):\n",
    "        img_array[i] = \"../samples/images/\" + img_array[i]\n",
    "\n",
    "        \n",
    "def cwd_decider(path):\n",
    "    print(path)\n",
    "    if os.getcwd() != r'c:\\Users\\Ricsi\\PycharmProjects\\szakdolgozat\\ImageProcessing\\src':\n",
    "        return path\n",
    "    return \"../samples/\" + path.replace(\"../\", \"\")\n",
    "        \n",
    "print(os.getcwd())\n",
    "img_array = []\n",
    "# img_array = [\"../../samples/images/Elohim.JPG\", \"../../samples/images/Egy hangon.JPG\"]\n",
    "init_images()\n",
    "#     print(Path(img_array[i]).is_file(), '||' + img_array[i])\n",
    "# print(img_array)\n",
    "r = ReadImage()\n",
    "\n",
    "drag_low_hue = widgets.IntSlider(description=\"Low HUE:\", min=0, max=179, value=86)\n",
    "drag_low_sat = widgets.IntSlider(description=\"Low Saturation:\", min=0, max=255, value=144)\n",
    "drag_low_bright = widgets.IntSlider(description=\"Low Brightness:\", min=0, max=255, value=43)\n",
    "drag_high_hue = widgets.IntSlider(description=\"High HUE:\", min=0, max=179, value=135)\n",
    "drag_high_sat = widgets.IntSlider(description=\"High Saturation:\", min=0, max=255, value=255)\n",
    "drag_high_bright = widgets.IntSlider(description=\"High Brightness:\", min=0, max=255, value=255)\n",
    "\n",
    "next_image_btn = widgets.Button(description=\"Next Image\")\n",
    "prev_image_btn = widgets.Button(description=\"Prev Image\")\n",
    "change_image_btn = widgets.Button(description=\"Change Image\")\n",
    "\n",
    "\n",
    "index = 0\n",
    "low_blue_arr = [86, 144, 43]\n",
    "high_blue_arr = [135, 255, 255]\n",
    "isItThreshold = False\n",
    "\n",
    "\n",
    "def show_img(this_img, imname):\n",
    "    print(os.getcwd())\n",
    "    directory = cwd_decider(r'../images/')\n",
    "    os.chdir(directory) \n",
    "    \n",
    "#     hsv = cv2.cvtColor(this_img, cv2.COLOR_BGR2HSV)\n",
    "#     gray = cv2.cvtColor(this_img, cv2.COLOR_BGR2GRAY)\n",
    "    lower_blue = np.array(low_blue_arr)\n",
    "    upper_blue = np.array(high_blue_arr)\n",
    "\n",
    "#     mask = cv2.inRange(hsv, lower_blue, upper_blue)\n",
    "#     del_mask = cv2.inRange(hsv, np.array([0,0,0]), np.array([0,220,220]))\n",
    "#     if not isItThreshold:\n",
    "#         res = cv2.bitwise_or(this_img, this_img, mask=mask)\n",
    "#     else:\n",
    "#         ret, thresh = cv2.threshold(gray, 0, 255, cv2.THRESH_OTSU | cv2.THRESH_BINARY_INV)\n",
    "#         thresh = cv2.adaptiveThreshold(mask, 120, cv2.ADAPTIVE_THRESH_GAUSSIAN_C, cv2.THRESH_BINARY, 3, 4)\n",
    "#         res = cv2.bitwise_or(this_img, this_img, mask=mask)\n",
    "#         res = cv2.bitwise_or(this_img, this_img, mask=thresh)\n",
    "#         res = cv2.bitwise_not(this_img, this_img, mask=del_mask)\n",
    "\n",
    "    title = img_array[index][21:]\n",
    "    \n",
    "    # Convert the image to gray scale \n",
    "    hsv = cv2.cvtColor(this_img, cv2.COLOR_BGR2HSV)\n",
    "\n",
    "    mask = cv2.inRange(hsv, lower_blue, upper_blue)\n",
    "\n",
    "    # Performing OTSU threshold \n",
    "    mask_inv = cv2.bitwise_not(mask)\n",
    "    ret, thresh1 = cv2.threshold(mask, 0, 255, cv2.THRESH_OTSU | cv2.THRESH_BINARY) \n",
    "\n",
    "\n",
    "    # Specify structure shape and kernel size.  \n",
    "    # Kernel size increases or decreases the area  \n",
    "    # of the rectangle to be detected. \n",
    "    # A smaller value like (10, 10) will detect  \n",
    "    # each word instead of a sentence. \n",
    "    rect_kernel = cv2.getStructuringElement(cv2.MORPH_RECT, (28, 28)) \n",
    "\n",
    "    # Appplying dilation on the threshold image \n",
    "    dilation = cv2.dilate(thresh1, rect_kernel, iterations = 1) \n",
    "\n",
    "    # Finding contours \n",
    "    contours, hierarchy = cv2.findContours(dilation, cv2.RETR_LIST, cv2.CHAIN_APPROX_SIMPLE) \n",
    "\n",
    "#     plt.imshow(this_img)\n",
    "#     plt.imshow(res)\n",
    "#     plt.imshow(cv2.bitwise_or(res, this_img))\n",
    "#     cv2.imwrite('test.jpg', res)\n",
    "#     plt.show()\n",
    "    r.read_file(thresh1, title, contours)\n",
    "    return\n",
    "\n",
    "\n",
    "def change_arrays():\n",
    "    global low_blue_arr, high_blue_arr\n",
    "    low_blue_arr = [drag_low_hue.value, drag_low_sat.value, drag_low_bright.value]\n",
    "    high_blue_arr = [drag_high_hue.value, drag_high_sat.value, drag_high_bright.value]\n",
    "    print(low_blue_arr, high_blue_arr)\n",
    "\n",
    "\n",
    "def next_image(b):\n",
    "    change_arrays()\n",
    "    init_images()\n",
    "    cv2.destroyAllWindows()\n",
    "    global index\n",
    "    if len(img_array)-1 > index:\n",
    "        index += 1\n",
    "    stream = open(img_array[index], \"rb\")\n",
    "    bytes = bytearray(stream.read())\n",
    "    numpyarray = np.asarray(bytes, dtype=np.uint8)\n",
    "    _thisImg = cv2.imdecode(numpyarray, cv2.IMREAD_UNCHANGED)\n",
    "#     _thisImg = cv2.imread(bgrImage)\n",
    "#     print(bgrImage)\n",
    "    show_img(_thisImg, img_array[index])\n",
    "\n",
    "    return\n",
    "\n",
    "\n",
    "def prev_image(b):\n",
    "    change_arrays()\n",
    "    cv2.destroyAllWindows()\n",
    "    global index\n",
    "    if index > 0:\n",
    "        index -= 1\n",
    "    stream = open(img_array[index], \"rb\")\n",
    "    bytes = bytearray(stream.read())\n",
    "    numpyarray = np.asarray(bytes, dtype=np.uint8)\n",
    "    _thisImg = cv2.imdecode(numpyarray, cv2.IMREAD_UNCHANGED)\n",
    "    print(img_array[index])\n",
    "    show_img(_thisImg, img_array[index])\n",
    "    return\n",
    "\n",
    "\n",
    "def change(b):\n",
    "    change_arrays()\n",
    "    global isItThreshold\n",
    "    cv2.destroyAllWindows()\n",
    "    _thisImg = cv2.imread(img_array[index])\n",
    "    if isItThreshold:\n",
    "        isItThreshold = False\n",
    "        show_img(_thisImg, img_array[index])\n",
    "        return\n",
    "    isItThreshold = True\n",
    "    show_img(_thisImg, img_array[index])\n",
    "\n",
    "next_image_btn.on_click(next_image)\n",
    "prev_image_btn.on_click(prev_image)\n",
    "change_image_btn.on_click(change)\n",
    "display(next_image_btn, prev_image_btn, change_image_btn)\n",
    "display(drag_low_hue, drag_low_sat, drag_low_bright, drag_high_hue, drag_high_sat, drag_high_bright)\n",
    "\n",
    "# while True:\n",
    "#     k=cv2.waitKey(30)\n",
    "#     if k==27:\n",
    "#         break\n"
   ]
  },
  {
   "cell_type": "code",
   "execution_count": 2,
   "id": "aging-magic",
   "metadata": {
    "jupyter": {
     "source_hidden": true
    }
   },
   "outputs": [
    {
     "ename": "error",
     "evalue": "OpenCV(4.5.1) C:\\Users\\appveyor\\AppData\\Local\\Temp\\1\\pip-req-build-wvn_it83\\opencv\\modules\\imgproc\\src\\color.cpp:182: error: (-215:Assertion failed) !_src.empty() in function 'cv::cvtColor'\n",
     "output_type": "error",
     "traceback": [
      "\u001b[1;31m---------------------------------------------------------------------------\u001b[0m",
      "\u001b[1;31merror\u001b[0m                                     Traceback (most recent call last)",
      "\u001b[1;32m<ipython-input-2-d2d619585120>\u001b[0m in \u001b[0;36m<module>\u001b[1;34m\u001b[0m\n\u001b[0;32m     14\u001b[0m \u001b[1;33m\u001b[0m\u001b[0m\n\u001b[0;32m     15\u001b[0m \u001b[1;31m# Convert the image to gray scale\u001b[0m\u001b[1;33m\u001b[0m\u001b[1;33m\u001b[0m\u001b[1;33m\u001b[0m\u001b[0m\n\u001b[1;32m---> 16\u001b[1;33m \u001b[0mhsv\u001b[0m \u001b[1;33m=\u001b[0m \u001b[0mcv2\u001b[0m\u001b[1;33m.\u001b[0m\u001b[0mcvtColor\u001b[0m\u001b[1;33m(\u001b[0m\u001b[0mimg\u001b[0m\u001b[1;33m,\u001b[0m \u001b[0mcv2\u001b[0m\u001b[1;33m.\u001b[0m\u001b[0mCOLOR_BGR2HSV\u001b[0m\u001b[1;33m)\u001b[0m\u001b[1;33m\u001b[0m\u001b[1;33m\u001b[0m\u001b[0m\n\u001b[0m\u001b[0;32m     17\u001b[0m \u001b[1;33m\u001b[0m\u001b[0m\n\u001b[0;32m     18\u001b[0m \u001b[0mmask\u001b[0m \u001b[1;33m=\u001b[0m \u001b[0mcv2\u001b[0m\u001b[1;33m.\u001b[0m\u001b[0minRange\u001b[0m\u001b[1;33m(\u001b[0m\u001b[0mhsv\u001b[0m\u001b[1;33m,\u001b[0m \u001b[0mnp\u001b[0m\u001b[1;33m.\u001b[0m\u001b[0marray\u001b[0m\u001b[1;33m(\u001b[0m\u001b[1;33m[\u001b[0m\u001b[1;36m86\u001b[0m\u001b[1;33m,\u001b[0m \u001b[1;36m144\u001b[0m\u001b[1;33m,\u001b[0m \u001b[1;36m43\u001b[0m\u001b[1;33m]\u001b[0m\u001b[1;33m)\u001b[0m\u001b[1;33m,\u001b[0m \u001b[0mnp\u001b[0m\u001b[1;33m.\u001b[0m\u001b[0marray\u001b[0m\u001b[1;33m(\u001b[0m\u001b[1;33m[\u001b[0m\u001b[1;36m135\u001b[0m\u001b[1;33m,\u001b[0m \u001b[1;36m255\u001b[0m\u001b[1;33m,\u001b[0m \u001b[1;36m255\u001b[0m\u001b[1;33m]\u001b[0m\u001b[1;33m)\u001b[0m\u001b[1;33m)\u001b[0m\u001b[1;33m\u001b[0m\u001b[1;33m\u001b[0m\u001b[0m\n",
      "\u001b[1;31merror\u001b[0m: OpenCV(4.5.1) C:\\Users\\appveyor\\AppData\\Local\\Temp\\1\\pip-req-build-wvn_it83\\opencv\\modules\\imgproc\\src\\color.cpp:182: error: (-215:Assertion failed) !_src.empty() in function 'cv::cvtColor'\n"
     ]
    }
   ],
   "source": [
    "# Import required packages \n",
    "import cv2 \n",
    "import pytesseract \n",
    "import numpy as np\n",
    "import matplotlib.pyplot as plt\n",
    "  \n",
    "# Mention the installed location of Tesseract-OCR in your system \n",
    "pytesseract.pytesseract.tesseract_cmd = r'C:\\Program Files\\Tesseract-OCR\\tesseract.exe'\n",
    "  \n",
    "# Read image from which text needs to be extracted \n",
    "img = cv2.imread(\"../samples/Elohim.jpg\") \n",
    "  \n",
    "# Preprocessing the image starts \n",
    "  \n",
    "# Convert the image to gray scale \n",
    "hsv = cv2.cvtColor(img, cv2.COLOR_BGR2HSV) \n",
    "\n",
    "mask = cv2.inRange(hsv, np.array([86, 144, 43]), np.array([135, 255, 255]))\n",
    "  \n",
    "# Performing OTSU threshold \n",
    "mask_inv = cv2.bitwise_not(mask)\n",
    "ret, thresh1 = cv2.threshold(mask, 0, 255, cv2.THRESH_OTSU | cv2.THRESH_BINARY) \n",
    "\n",
    "  \n",
    "# Specify structure shape and kernel size.  \n",
    "# Kernel size increases or decreases the area  \n",
    "# of the rectangle to be detected. \n",
    "# A smaller value like (10, 10) will detect  \n",
    "# each word instead of a sentence. \n",
    "rect_kernel = cv2.getStructuringElement(cv2.MORPH_RECT, (28, 28)) \n",
    "  \n",
    "# Appplying dilation on the threshold image \n",
    "dilation = cv2.dilate(thresh1, rect_kernel, iterations = 1) \n",
    "  \n",
    "# Finding contours \n",
    "contours, hierarchy = cv2.findContours(dilation, cv2.RETR_EXTERNAL, cv2.CHAIN_APPROX_NONE) \n",
    "\n",
    "# Creating a copy of image \n",
    "im2 = img.copy()\n",
    "i = 0\n",
    "j = 0\n",
    "\n",
    "directory = r'../samples/'\n",
    "os.chdir(directory)\n",
    "\n",
    "file = open(\"recognized.txt\", \"w+\") \n",
    "file.write(\"\") \n",
    "file.close() \n",
    "\n",
    "x0, y0, w0, h0 = cv2.boundingRect(contours[0])\n",
    "\n",
    "# Looping through the identified contours \n",
    "# Then rectangular part is cropped and passed on \n",
    "# to pytesseract for extracting text from it \n",
    "# Extracted text is then written into the text file \n",
    "for cnt in contours: \n",
    "    x, y, w, h = cv2.boundingRect(cnt) \n",
    "      \n",
    "    # Drawing a rectangle on copied image \n",
    "    rect = cv2.rectangle(thresh1, (x, y), (x + w, y + h), (0, 255, 0), 2) \n",
    "      \n",
    "    # Cropping the text block for giving input to OCR \n",
    "    cropped = thresh1[y:y + h, x:x + w] \n",
    "    \n",
    "    file = open(\"recognized.txt\", \"a\")\n",
    "        \n",
    "    # Apply OCR on the cropped image \n",
    "    text = pytesseract.image_to_string(cropped, config='--psm 6')\n",
    "    \n",
    "#     if text.isspace():\n",
    "    plt.imshow(cropped)\n",
    "#     plt.show()\n",
    "    print(text)\n",
    "    \n",
    "    while text.isspace():\n",
    "        print(\"ok\")\n",
    "        thresh_temp = thresh1.copy()\n",
    "        thresh_temp = cv2.resize(thresh_temp, (i, j))\n",
    "        text = pytesseract.image_to_string(thresh1[y:y + h + i, x:x + w + j], config='--psm 6')\n",
    "        if not text.isspace() and y+h+i > y+h+(i-1):\n",
    "            i+=1\n",
    "        if not text.isspace() and x+w+j > x+w+(j-1):\n",
    "            j+=1\n",
    "    file.write(text) \n",
    "    if h0 < h:\n",
    "        file.write(\"\\n\") \n",
    "      \n",
    "    # Close the file \n",
    "    file.close "
   ]
  },
  {
   "cell_type": "code",
   "execution_count": null,
   "id": "rising-march",
   "metadata": {},
   "outputs": [],
   "source": []
  }
 ],
 "metadata": {
  "kernelspec": {
   "display_name": "Python 3",
   "language": "python",
   "name": "python3"
  },
  "language_info": {
   "codemirror_mode": {
    "name": "ipython",
    "version": 3
   },
   "file_extension": ".py",
   "mimetype": "text/x-python",
   "name": "python",
   "nbconvert_exporter": "python",
   "pygments_lexer": "ipython3",
   "version": "3.9.1"
  },
  "toc-showcode": true
 },
 "nbformat": 4,
 "nbformat_minor": 5
}
