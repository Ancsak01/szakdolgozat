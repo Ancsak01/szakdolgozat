{
 "cells": [
  {
   "cell_type": "code",
   "execution_count": 35,
   "metadata": {},
   "outputs": [
    {
     "data": {
      "text/plain": [
       "'<?xml version=\"1.0\" encoding=\"UTF-8\"?>\\n<rdf:RDF\\n   xmlns:key=\"http://sheet_example.com/key\"\\n   xmlns:ns1=\"file:///c:/Users/Ricsi/PycharmProjects/szakdolgozat/ImageProcessing/Examples/\"\\n   xmlns:rdf=\"http://www.w3.org/1999/02/22-rdf-syntax-ns#\"\\n   xmlns:segment=\"http://sheet_example.com/segment\"\\n>\\n  <rdf:Description rdf:nodeID=\"N7453638c1ef5423da5215f9a3e7d3056\">\\n    <rdf:type rdf:resource=\"http://www.w3.org/1999/02/22-rdf-syntax-ns#segment\"/>\\n    <ns1:id>11</ns1:id>\\n    <segment:note>dm7</segment:note>\\n    <segment:text>, Vele </segment:text>\\n    <segment:position>, Ve</segment:position>\\n  </rdf:Description>\\n  <rdf:Description rdf:nodeID=\"N7cb9d438a5c044a5b8ba3e5be5a152cb\">\\n    <rdf:type rdf:resource=\"http://www.w3.org/1999/02/22-rdf-syntax-ns#segment\"/>\\n    <ns1:id>19</ns1:id>\\n    <segment:note>C</segment:note>\\n    <segment:text>mas!</segment:text>\\n    <segment:position>mas</segment:position>\\n  </rdf:Description>\\n  <rdf:Description rdf:nodeID=\"N82cfa9bc223244099c9c1ec10f12296e\">\\n    <rdf:type rdf:resource=\"http://www.w3.org/1999/02/22-rdf-syntax-ns#segment\"/>\\n    <ns1:id>1</ns1:id>\\n    <segment:note>C</segment:note>\\n    <segment:text>Tied a dicsőség, </segment:text>\\n    <segment:position>őség</segment:position>\\n  </rdf:Description>\\n  <rdf:Description rdf:nodeID=\"N805bcd0a8acb4faf8dca1dace9551c40\">\\n    <rdf:type rdf:resource=\"http://www.w3.org/1999/02/22-rdf-syntax-ns#segment\"/>\\n    <ns1:id>13</ns1:id>\\n    <segment:note>G7</segment:note>\\n    <segment:text>fel.\\\\n</segment:text>\\n    <segment:position>fel.</segment:position>\\n  </rdf:Description>\\n  <rdf:Description rdf:nodeID=\"Nc1b0c69db22740628ce468b42483e58d\">\\n    <rdf:type rdf:resource=\"http://www.w3.org/1999/02/22-rdf-syntax-ns#segment\"/>\\n    <ns1:id>4</ns1:id>\\n    <segment:note>dm</segment:note>\\n    <segment:text>kezeinket\\\\n</segment:text>\\n    <segment:position>in</segment:position>\\n  </rdf:Description>\\n  <rdf:Description rdf:nodeID=\"Nde87a742a96944bc9a61db70a7acff97\">\\n    <rdf:type rdf:resource=\"http://www.w3.org/1999/02/22-rdf-syntax-ns#segment\"/>\\n    <ns1:id>9</ns1:id>\\n    <segment:note>am</segment:note>\\n    <segment:text>Keze nagy csodákat tesz,\\\\n</segment:text>\\n    <segment:position>esz,</segment:position>\\n  </rdf:Description>\\n  <rdf:Description rdf:nodeID=\"Ne85534302b594bec80c1b244e4acf13a\">\\n    <rdf:type rdf:resource=\"http://www.w3.org/1999/02/22-rdf-syntax-ns#segment\"/>\\n    <ns1:id>15</ns1:id>\\n    <segment:note>C</segment:note>\\n    <segment:text>mas, </segment:text>\\n    <segment:position>mas</segment:position>\\n  </rdf:Description>\\n  <rdf:Description rdf:nodeID=\"N32e028e3738c4da1b5c28576edf22e6d\">\\n    <rdf:type rdf:resource=\"http://www.w3.org/1999/02/22-rdf-syntax-ns#segment\"/>\\n    <ns1:id>16</ns1:id>\\n    <segment:note>am</segment:note>\\n    <segment:text>ó, Hatalmas, </segment:text>\\n    <segment:position>mas</segment:position>\\n  </rdf:Description>\\n  <rdf:Description rdf:nodeID=\"N2e2e5cedbf524f25b94a588c692ff426\">\\n    <rdf:type rdf:resource=\"http://www.w3.org/1999/02/22-rdf-syntax-ns#segment\"/>\\n    <ns1:id>12</ns1:id>\\n    <segment:note>G</segment:note>\\n    <segment:text>senki nem ér </segment:text>\\n    <segment:position>se</segment:position>\\n  </rdf:Description>\\n  <rdf:Description rdf:nodeID=\"N3a6e5a21d03545a896aaa608944c161c\">\\n    <rdf:type rdf:resource=\"http://www.w3.org/1999/02/22-rdf-syntax-ns#segment\"/>\\n    <ns1:id>8</ns1:id>\\n    <segment:note>C</segment:note>\\n    <segment:text>mas, </segment:text>\\n    <segment:position>mas</segment:position>\\n  </rdf:Description>\\n  <rdf:Description rdf:nodeID=\"Na5269b8883ed476fbb403ce5f2f4db2c\">\\n    <rdf:type rdf:resource=\"http://www.w3.org/1999/02/22-rdf-syntax-ns#segment\"/>\\n    <ns1:id>7</ns1:id>\\n    <segment:note>G7</segment:note>\\n    <segment:text>Ó, Hatal</segment:text>\\n    <segment:position>Hat</segment:position>\\n  </rdf:Description>\\n  <rdf:Description rdf:nodeID=\"N4bd8d74fbc7b4c29a3ac4a3a4b27f1a6\">\\n    <rdf:type rdf:resource=\"http://www.w3.org/1999/02/22-rdf-syntax-ns#segment\"/>\\n    <ns1:id>18</ns1:id>\\n    <segment:note>G7</segment:note>\\n    <segment:text> ó, Hatal</segment:text>\\n    <segment:position> ó</segment:position>\\n  </rdf:Description>\\n  <rdf:Description rdf:nodeID=\"Nba953d0193c340bf9ff8fc3e1abe4ffa\">\\n    <rdf:type rdf:resource=\"http://www.w3.org/1999/02/22-rdf-syntax-ns#segment\"/>\\n    <ns1:id>17</ns1:id>\\n    <segment:note>F</segment:note>\\n    <segment:text>ó, Hatalmas,</segment:text>\\n    <segment:position>mas</segment:position>\\n  </rdf:Description>\\n  <rdf:Description rdf:nodeID=\"N90e585614fb046ad92cb7a5f7a501f67\">\\n    <rdf:type rdf:resource=\"http://www.w3.org/1999/02/22-rdf-syntax-ns#segment\"/>\\n    <ns1:id>2</ns1:id>\\n    <segment:note>em7</segment:note>\\n    <segment:text>és imádás,\\\\n</segment:text>\\n    <segment:position>im</segment:position>\\n  </rdf:Description>\\n  <rdf:Description rdf:nodeID=\"Nd6b4db76de43404cb873ce0376aa8b31\">\\n    <rdf:type rdf:resource=\"http://www.w3.org/1999/02/22-rdf-syntax-ns#segment\"/>\\n    <ns1:id>3</ns1:id>\\n    <segment:note>F</segment:note>\\n    <segment:text>Felemeljük </segment:text>\\n    <segment:position>elj</segment:position>\\n  </rdf:Description>\\n  <rdf:Description rdf:nodeID=\"N381d6306b9964fbb860eb412ccc44cab\">\\n    <rdf:type rdf:resource=\"http://www.w3.org/1999/02/22-rdf-syntax-ns#segment\"/>\\n    <ns1:id>14</ns1:id>\\n    <segment:note>G7</segment:note>\\n    <segment:text>Ó, Hatal</segment:text>\\n    <segment:position>Hat</segment:position>\\n  </rdf:Description>\\n  <rdf:Description rdf:nodeID=\"Na641c836aac34e53b2e85db6494ce007\">\\n    <rdf:type rdf:resource=\"http://www.w3.org/1999/02/22-rdf-syntax-ns#segment\"/>\\n    <ns1:id>10</ns1:id>\\n    <segment:note>F</segment:note>\\n    <segment:text>Vele senki nem ér fel</segment:text>\\n    <segment:position>fel</segment:position>\\n  </rdf:Description>\\n  <rdf:Description rdf:nodeID=\"N5a8a036e83bb40248a8732f2191a24af\">\\n    <rdf:type rdf:resource=\"http://www.w3.org/1999/02/22-rdf-syntax-ns#segment\"/>\\n    <ns1:id>5</ns1:id>\\n    <segment:note>F/G</segment:note>\\n    <segment:text>És dicsérjük </segment:text>\\n    <segment:position>csé</segment:position>\\n  </rdf:Description>\\n  <rdf:Description rdf:nodeID=\"Nfaa5c119c1d74dc38111963948c2bbc2\">\\n    <rdf:type rdf:resource=\"http://www.w3.org/1999/02/22-rdf-syntax-ns#key\"/>\\n    <key:chord>C</key:chord>\\n    <key:tone>major</key:tone>\\n  </rdf:Description>\\n  <rdf:Description rdf:nodeID=\"Nc012b319833f43c2b82e5ba62850ddf1\">\\n    <rdf:type rdf:resource=\"http://www.w3.org/1999/02/22-rdf-syntax-ns#segment\"/>\\n    <ns1:id>6</ns1:id>\\n    <segment:note>G</segment:note>\\n    <segment:text>szent neved!\\\\n</segment:text>\\n    <segment:position>ved</segment:position>\\n  </rdf:Description>\\n</rdf:RDF>\\n'"
      ]
     },
     "execution_count": 35,
     "metadata": {},
     "output_type": "execute_result"
    }
   ],
   "source": [
    "import rdflib as rdf\n",
    "\n",
    "g = rdf.Graph().parse(\"sheetparser_rdf.xml\")\n",
    "\n",
    "g.serialize(format=\"xml\")\n",
    "\n",
    "#for s in g.subjects():\n",
    "    #print(s)\n",
    "\n",
    "#for p in g.predicates():\n",
    "    #print(p)\n",
    "\n",
    "#for o in g.objects():\n",
    "    #print(o)"
   ]
  },
  {
   "cell_type": "code",
   "execution_count": null,
   "metadata": {},
   "outputs": [],
   "source": [
    "import rdflib as rdf\n",
    "\n",
    "g = rdf.Graph()\n",
    "\n",
    "chord = rdf.BNode()\n",
    "\n",
    "\n",
    "\n",
    "I = rdf.Literal(\"G\")\n",
    "III = rdf.Literal(\"H\")\n",
    "V = rdf.Literal(\"D\")\n",
    "\n",
    "namespace = rdf.Namespace(\"http://sheet_example.com/segment/chord/\")\n",
    "mngr = rdf.namespace.NamespaceManager(g)\n",
    "mngr.bind('chord', namespace)\n",
    "\n",
    "\n",
    "\n",
    "\n",
    "g.add((chord, namespace.I, I))\n",
    "g.add((chord, namespace.III, III))\n",
    "g.add((chord, namespace.V, V))\n",
    "\n",
    "\n",
    "print(g.serialize(format=\"xml\"))"
   ]
  }
 ],
 "metadata": {
  "interpreter": {
   "hash": "4bffe14bc1956b695b9572ab9e3e3950ba77dbb23140b0e9a8e8648e246be6d7"
  },
  "kernelspec": {
   "display_name": "Python 3.9.1 ('szakdoga': venv)",
   "language": "python",
   "name": "python3"
  },
  "language_info": {
   "codemirror_mode": {
    "name": "ipython",
    "version": 3
   },
   "file_extension": ".py",
   "mimetype": "text/x-python",
   "name": "python",
   "nbconvert_exporter": "python",
   "pygments_lexer": "ipython3",
   "version": "3.9.1"
  },
  "orig_nbformat": 4
 },
 "nbformat": 4,
 "nbformat_minor": 2
}
