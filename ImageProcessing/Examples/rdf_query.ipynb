{
 "cells": [
  {
   "cell_type": "code",
   "execution_count": 151,
   "metadata": {},
   "outputs": [],
   "source": [
    "import rdflib as rdf\n",
    "\n",
    "g = rdf.Graph().parse(\"sheetparser_rdf.xml\")"
   ]
  },
  {
   "cell_type": "code",
   "execution_count": 152,
   "metadata": {},
   "outputs": [
    {
     "name": "stdout",
     "output_type": "stream",
     "text": [
      "<?xml version=\"1.0\" encoding=\"UTF-8\"?>\n",
      "<rdf:RDF\n",
      "   xmlns:chord=\"http://sheet_example.com/segment/chord/\"\n",
      "   xmlns:rdf=\"http://www.w3.org/1999/02/22-rdf-syntax-ns#\"\n",
      ">\n",
      "  <rdf:Description rdf:nodeID=\"N7684f92f3cde41cfaa7daea0f98157a2\">\n",
      "    <chord:I>G</chord:I>\n",
      "    <chord:III>H</chord:III>\n",
      "    <chord:V>D</chord:V>\n",
      "  </rdf:Description>\n",
      "</rdf:RDF>\n",
      "\n"
     ]
    }
   ],
   "source": [
    "custom_g = rdf.Graph()\n",
    "\n",
    "chord = rdf.BNode()\n",
    "\n",
    "\n",
    "\n",
    "I = rdf.Literal(\"G\")\n",
    "III = rdf.Literal(\"H\")\n",
    "V = rdf.Literal(\"D\")\n",
    "\n",
    "ch = rdf.Namespace(\"http://sheet_example.com/segment/chord/\")\n",
    "mngr = rdf.namespace.NamespaceManager(custom_g)\n",
    "mngr.bind('chord', ch)\n",
    "\n",
    "\n",
    "\n",
    "\n",
    "custom_g.add((chord, ch.I, I))\n",
    "custom_g.add((chord, ch.III, III))\n",
    "custom_g.add((chord, ch.V, V))\n",
    "\n",
    "\n",
    "print(custom_g.serialize(format=\"xml\"))"
   ]
  },
  {
   "cell_type": "code",
   "execution_count": 153,
   "metadata": {},
   "outputs": [
    {
     "name": "stdout",
     "output_type": "stream",
     "text": [
      "C\n",
      " Tied a dicsőség, \n",
      "C\n",
      " mas, \n",
      "C\n",
      " mas, \n",
      "C\n",
      " mas!\n"
     ]
    }
   ],
   "source": [
    "query_string_one_chord = \"\"\"\n",
    "    SELECT ?s ?p ?o ?p1 ?o1\n",
    "    WHERE {\n",
    "        ?s ?p 'C' .\n",
    "        ?s ?p ?o .\n",
    "        ?s segment:text ?o1 .\n",
    "        ?s ?p1 ?o1 .\n",
    "    }\n",
    "\"\"\"\n",
    "\n",
    "q_res = g.query(query_string_one_chord)\n",
    "for row in q_res:\n",
    "    print(f\"{row.o}\\n {row.o1}\")"
   ]
  },
  {
   "cell_type": "code",
   "execution_count": 154,
   "metadata": {},
   "outputs": [
    {
     "name": "stdout",
     "output_type": "stream",
     "text": [
      "Akkord: C\n",
      "Akkord: em7\n",
      "Akkord: F\n",
      "Akkord: dm\n",
      "Akkord: F/G\n",
      "Akkord: G\n",
      "Akkord: G7\n",
      "Akkord: am\n",
      "Akkord: dm7\n"
     ]
    }
   ],
   "source": [
    "query_string_all_chord = \"\"\"\n",
    "    SELECT DISTINCT?o\n",
    "    WHERE {\n",
    "        ?s segment:note ?o .\n",
    "        ?s ?p ?o .\n",
    "    }\n",
    "\"\"\"\n",
    "\n",
    "q_res = g.query(query_string_all_chord)\n",
    "for row in q_res:\n",
    "    print(f\"Akkord: {row.o}\")"
   ]
  }
 ],
 "metadata": {
  "interpreter": {
   "hash": "4bffe14bc1956b695b9572ab9e3e3950ba77dbb23140b0e9a8e8648e246be6d7"
  },
  "kernelspec": {
   "display_name": "Python 3.9.1 ('szakdoga': venv)",
   "language": "python",
   "name": "python3"
  },
  "language_info": {
   "codemirror_mode": {
    "name": "ipython",
    "version": 3
   },
   "file_extension": ".py",
   "mimetype": "text/x-python",
   "name": "python",
   "nbconvert_exporter": "python",
   "pygments_lexer": "ipython3",
   "version": "3.9.1"
  },
  "orig_nbformat": 4
 },
 "nbformat": 4,
 "nbformat_minor": 2
}
