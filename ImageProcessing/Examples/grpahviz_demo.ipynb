{
 "cells": [
  {
   "cell_type": "code",
   "execution_count": null,
   "metadata": {},
   "outputs": [],
   "source": [
    "import os\n",
    "import xml.etree.ElementTree as ET\n",
    "import graphviz as gv"
   ]
  },
  {
   "cell_type": "code",
   "execution_count": 23,
   "metadata": {},
   "outputs": [],
   "source": [
    "tree = ET.parse(source='sheetparser.xml')\n",
    "root = tree.getroot()"
   ]
  },
  {
   "cell_type": "code",
   "execution_count": null,
   "metadata": {},
   "outputs": [],
   "source": [
    "line, ret, su = '', '', ''\n",
    "ind, notes = [], []\n",
    "count, sum_of_ind, ind_of_line = 0, 0, 0\n",
    "segment_num = [\"2\", \"4\", \"6\", \"9\", \"13\", \"19\"]"
   ]
  },
  {
   "cell_type": "code",
   "execution_count": 24,
   "metadata": {},
   "outputs": [
    {
     "data": {
      "text/plain": [
       "'..\\\\outputTexts\\\\graphviz\\\\demo.png'"
      ]
     },
     "execution_count": 24,
     "metadata": {},
     "output_type": "execute_result"
    }
   ],
   "source": [
    "ni = gv.Digraph('ni')\n",
    "ni.node('Songname', 'Tied a dicsőség')\n",
    "for child in root:\n",
    "    if child.tag == \"key\":\n",
    "        ni.attr('node')\n",
    "        key_note, chord = child[0].text, child[1].text\n",
    "        ni.node('key', key_note)\n",
    "        ni.node('chord', chord)\n",
    "\n",
    "    if child.tag == \"segment\":\n",
    "        ni.attr('node')\n",
    "        ni.node(child.attrib['id'] + '. segment', child.attrib['id'] + '. szegmens')\n",
    "        note, text, pos_substr = child[0].text, child[1].text, child[2].text\n",
    "        ni.node(child.attrib['id'] + '1', note)\n",
    "        ni.node(child.attrib['id'] + '2', text)\n",
    "        ni.node(child.attrib['id'] + '3', pos_substr)\n",
    "        ni.edges([(child.attrib['id'] + '. segment', child.attrib['id'] + '1'),\n",
    "                  (child.attrib['id'] + '. segment', child.attrib['id'] + '2'),\n",
    "                  (child.attrib['id'] + '. segment', child.attrib['id'] + '3'),\n",
    "                  ('Songname', child.attrib['id'] + '. segment')])\n",
    "        \n",
    "\n",
    "ni.edges([('Songname', 'key'),\n",
    "                ('Songname', 'chord'),\n",
    "                ])\n",
    "ni.render('../outputTexts/graphviz/demo', format='png')\n",
    "#print(ni.source)\n",
    "        \n"
   ]
  },
  {
   "cell_type": "code",
   "execution_count": null,
   "metadata": {},
   "outputs": [],
   "source": [
    "for child in root:\n",
    "    if child.tag == \"segment\":\n",
    "        sum_of_ind = 0\n",
    "        note = child[0].text\n",
    "        notes.append(note)\n",
    "        text = child[1].text\n",
    "        position_substring = child[2].text\n",
    "\n",
    "        if position_substring in line:\n",
    "            occ = line.count(position_substring)\n",
    "            ind_of_line = (line.replace(position_substring, '___', occ) + text).find(position_substring)\n",
    "            line.replace('___', position_substring, occ)\n",
    "            line += text\n",
    "        else:\n",
    "            line += text\n",
    "            ind_of_line = line.index(position_substring)\n",
    "\n",
    "        for i in range(0, count):\n",
    "            sum_of_ind += ind[i]\n",
    "\n",
    "        ind.append(ind_of_line) if len(ind) == 0 else ind.append(ind_of_line - sum_of_ind - len(notes))\n",
    "        \n",
    "        ret += \"\".zfill(ind[count]).replace('0', ' ') + note\n",
    "        count += 1\n",
    "\n",
    "        if segment_num.count(child.attrib['id']) > 0:\n",
    "            ret += \"\\n\"\n",
    "            su += ret + line.replace(r'\\n', \"\\n\")\n",
    "            ret, line = '', ''\n",
    "            ind, notes = [], []\n",
    "            count, sum_of_ind = 0, 0\n",
    "\n",
    "print(su)"
   ]
  }
 ],
 "metadata": {
  "interpreter": {
   "hash": "4bffe14bc1956b695b9572ab9e3e3950ba77dbb23140b0e9a8e8648e246be6d7"
  },
  "kernelspec": {
   "display_name": "Python 3.9.1 64-bit ('szakdoga': venv)",
   "language": "python",
   "name": "python3"
  },
  "language_info": {
   "codemirror_mode": {
    "name": "ipython",
    "version": 3
   },
   "file_extension": ".py",
   "mimetype": "text/x-python",
   "name": "python",
   "nbconvert_exporter": "python",
   "pygments_lexer": "ipython3",
   "version": "3.9.1"
  },
  "orig_nbformat": 4
 },
 "nbformat": 4,
 "nbformat_minor": 2
}
