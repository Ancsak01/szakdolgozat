{
 "cells": [
  {
   "cell_type": "code",
   "execution_count": 26,
   "metadata": {},
   "outputs": [],
   "source": [
    "import os\n",
    "import xml.etree.ElementTree as ET\n",
    "import graphviz as gv"
   ]
  },
  {
   "cell_type": "code",
   "execution_count": 27,
   "metadata": {},
   "outputs": [],
   "source": [
    "tree = ET.parse(source='sheetparser.xml')\n",
    "root = tree.getroot()"
   ]
  },
  {
   "cell_type": "code",
   "execution_count": 28,
   "metadata": {},
   "outputs": [
    {
     "data": {
      "text/plain": [
       "'..\\\\outputTexts\\\\graphviz\\\\demo.png'"
      ]
     },
     "execution_count": 28,
     "metadata": {},
     "output_type": "execute_result"
    }
   ],
   "source": [
    "ni = gv.Digraph('ni')\n",
    "ni.node('Songname', 'Tied a dicsőség')\n",
    "for child in root:\n",
    "    if child.tag == \"key\":\n",
    "        ni.attr('node')\n",
    "        key_note, chord = child[0].text, child[1].text\n",
    "        ni.node('key', key_note)\n",
    "        ni.node('chord', chord)\n",
    "\n",
    "    if child.tag == \"segment\":\n",
    "        ni.attr('node')\n",
    "        ni.node(child.attrib['id'] + '. segment', child.attrib['id'] + '. szegmens')\n",
    "        note, text, pos_substr = child[0].text, child[1].text, child[2].text\n",
    "        ni.node(child.attrib['id'] + '1', note)\n",
    "        ni.node(child.attrib['id'] + '2', text)\n",
    "        ni.node(child.attrib['id'] + '3', pos_substr)\n",
    "        ni.edges([(child.attrib['id'] + '. segment', child.attrib['id'] + '1'),\n",
    "                  (child.attrib['id'] + '. segment', child.attrib['id'] + '2'),\n",
    "                  (child.attrib['id'] + '. segment', child.attrib['id'] + '3'),\n",
    "                  ('Songname', child.attrib['id'] + '. segment')])\n",
    "        \n",
    "\n",
    "ni.edges([('Songname', 'key'),\n",
    "                ('Songname', 'chord'),\n",
    "                ])\n",
    "ni.render('../outputTexts/graphviz/demo', format='png')\n",
    "#print(ni.source)\n",
    "        \n"
   ]
  }
 ],
 "metadata": {
  "interpreter": {
   "hash": "4bffe14bc1956b695b9572ab9e3e3950ba77dbb23140b0e9a8e8648e246be6d7"
  },
  "kernelspec": {
   "display_name": "Python 3.9.1 64-bit ('szakdoga': venv)",
   "language": "python",
   "name": "python3"
  },
  "language_info": {
   "codemirror_mode": {
    "name": "ipython",
    "version": 3
   },
   "file_extension": ".py",
   "mimetype": "text/x-python",
   "name": "python",
   "nbconvert_exporter": "python",
   "pygments_lexer": "ipython3",
   "version": "3.9.1"
  },
  "orig_nbformat": 4
 },
 "nbformat": 4,
 "nbformat_minor": 2
}
