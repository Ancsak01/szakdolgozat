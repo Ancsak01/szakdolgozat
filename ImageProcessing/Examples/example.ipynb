{
 "cells": [
  {
   "cell_type": "markdown",
   "id": "conscious-spell",
   "metadata": {},
   "source": [
    "Importálom az xml beolvasó függvénykönyvtárat."
   ]
  },
  {
   "cell_type": "code",
   "execution_count": 157,
   "id": "declared-africa",
   "metadata": {},
   "outputs": [],
   "source": [
    "import xml.etree.ElementTree as ET"
   ]
  },
  {
   "cell_type": "markdown",
   "id": "dominican-softball",
   "metadata": {},
   "source": [
    "Ezután beolvasásra kerül a példa xml fájl."
   ]
  },
  {
   "cell_type": "code",
   "execution_count": 158,
   "metadata": {},
   "outputs": [],
   "source": [
    "tree = ET.parse(source='sheetparser.xml')"
   ]
  },
  {
   "cell_type": "markdown",
   "metadata": {},
   "source": [
    "Kiolvassa a gyökér taget"
   ]
  },
  {
   "cell_type": "code",
   "execution_count": 159,
   "metadata": {},
   "outputs": [],
   "source": [
    "root = tree.getroot()"
   ]
  },
  {
   "cell_type": "markdown",
   "metadata": {},
   "source": [
    "Inicializálom a használni kívánt változókat"
   ]
  },
  {
   "cell_type": "code",
   "execution_count": 160,
   "metadata": {},
   "outputs": [],
   "source": [
    "line, ret, su = '', '', ''\n",
    "ind, notes = [], []\n",
    "count, sum_of_ind, ind_of_line = 0, 0, 0\n",
    "segment_num = [\"2\", \"4\", \"6\", \"9\", \"13\", \"19\"]"
   ]
  },
  {
   "cell_type": "code",
   "execution_count": 161,
   "metadata": {},
   "outputs": [
    {
     "name": "stdout",
     "output_type": "stream",
     "text": [
      "           C       em7\n",
      "Tied a dicsőség, és imádás,\n",
      "     F        dm\n",
      "Felemeljük kezeinket\n",
      "     F/G              G\n",
      "És dicsérjük szent neved!\n",
      "   G7   C                        am\n",
      "Ó, Hatalmas, Keze nagy csodákat tesz,\n",
      "                  F dm7       G           G7\n",
      "Vele senki nem ér fel, Vele senki nem ér fel.\n",
      "   G7   C            am            F     G7      C\n",
      "Ó, Hatalmas, ó, Hatalmas, ó, Hatalmas, ó, Hatalmas!\n"
     ]
    }
   ],
   "source": [
    "for child in root:\n",
    "    if child.tag == \"segment\":\n",
    "        sum_of_ind = 0\n",
    "        note = child[0].text\n",
    "        notes.append(note)\n",
    "        text = child[1].text\n",
    "        position_substring = child[2].text\n",
    "\n",
    "        if position_substring in line:\n",
    "            occ = line.count(position_substring)\n",
    "            ind_of_line = (line.replace(position_substring, 'ZZZ', occ) + text).find(position_substring)\n",
    "            line.replace('ZZZ', position_substring, occ)\n",
    "            line += text\n",
    "        else:\n",
    "            line += text\n",
    "            ind_of_line = line.index(position_substring)\n",
    "\n",
    "        for i in range(0, count):\n",
    "            sum_of_ind += ind[i]\n",
    "\n",
    "        ind.append(ind_of_line) if len(ind) == 0 else ind.append(ind_of_line - sum_of_ind - len(notes))\n",
    "        \n",
    "        ret += \"\".zfill(ind[count]).replace('0', ' ') + note\n",
    "        count += 1\n",
    "\n",
    "        if segment_num.count(child.attrib['id']) > 0:\n",
    "            ret += \"\\n\"\n",
    "            su += ret + line.replace(r'\\n', \"\\n\")\n",
    "            ret, line = '', ''\n",
    "            ind, notes = [], []\n",
    "            count, sum_of_ind = 0, 0\n",
    "\n",
    "print(su)"
   ]
  }
 ],
 "metadata": {
  "interpreter": {
   "hash": "4bffe14bc1956b695b9572ab9e3e3950ba77dbb23140b0e9a8e8648e246be6d7"
  },
  "kernelspec": {
   "display_name": "Python 3.9.1 64-bit ('szakdoga': venv)",
   "name": "python3"
  },
  "language_info": {
   "codemirror_mode": {
    "name": "ipython",
    "version": 3
   },
   "file_extension": ".py",
   "mimetype": "text/x-python",
   "name": "python",
   "nbconvert_exporter": "python",
   "pygments_lexer": "ipython3",
   "version": "3.9.1"
  }
 },
 "nbformat": 4,
 "nbformat_minor": 5
}
