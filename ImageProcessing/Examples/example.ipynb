{
 "cells": [
  {
   "cell_type": "markdown",
   "id": "conscious-spell",
   "metadata": {},
   "source": [
    "Importálom az xml beolvasó függvénykönyvtárat."
   ]
  },
  {
   "cell_type": "code",
   "execution_count": 2,
   "id": "declared-africa",
   "metadata": {},
   "outputs": [],
   "source": [
    "import xml.etree.ElementTree as ET"
   ]
  },
  {
   "cell_type": "markdown",
   "id": "dominican-softball",
   "metadata": {},
   "source": [
    "Ezután beolvasásra kerül a példa xml fájl."
   ]
  },
  {
   "cell_type": "code",
   "execution_count": 22,
   "metadata": {},
   "outputs": [],
   "source": [
    "tree = ET.parse(source='sheetparser.xml')"
   ]
  },
  {
   "cell_type": "code",
   "execution_count": 23,
   "metadata": {},
   "outputs": [],
   "source": [
    "root = tree.getroot()"
   ]
  },
  {
   "cell_type": "code",
   "execution_count": 58,
   "metadata": {},
   "outputs": [],
   "source": [
    "temp = ''\n",
    "ret = ''\n"
   ]
  },
  {
   "cell_type": "code",
   "execution_count": 60,
   "metadata": {},
   "outputs": [
    {
     "name": "stdout",
     "output_type": "stream",
     "text": [
      "<method-wrapper '__contains__' of dict_items object at 0x0000022BA300BF78>\n",
      "<method-wrapper '__contains__' of dict_items object at 0x0000022BA2CE3978>\n",
      "<method-wrapper '__contains__' of dict_items object at 0x0000022BA2CE3DC8>\n",
      "<method-wrapper '__contains__' of dict_items object at 0x0000022BA300BE28>\n",
      "<method-wrapper '__contains__' of dict_items object at 0x0000022BA300BDF8>\n",
      "<method-wrapper '__contains__' of dict_items object at 0x0000022BA300BE28>\n",
      "<method-wrapper '__contains__' of dict_items object at 0x0000022BA300BE58>\n",
      "<method-wrapper '__contains__' of dict_items object at 0x0000022BA300B1C8>\n",
      "<method-wrapper '__contains__' of dict_items object at 0x0000022BA2CE3978>\n"
     ]
    },
    {
     "ename": "MemoryError",
     "evalue": "",
     "output_type": "error",
     "traceback": [
      "\u001b[1;31m---------------------------------------------------------------------------\u001b[0m",
      "\u001b[1;31mMemoryError\u001b[0m                               Traceback (most recent call last)",
      "\u001b[1;32m<ipython-input-60-5ae3ed4865dd>\u001b[0m in \u001b[0;36m<module>\u001b[1;34m()\u001b[0m\n\u001b[0;32m      6\u001b[0m \u001b[1;33m\u001b[0m\u001b[0m\n\u001b[0;32m      7\u001b[0m         \u001b[0mtemp\u001b[0m \u001b[1;33m+=\u001b[0m \u001b[0mchild\u001b[0m\u001b[1;33m[\u001b[0m\u001b[1;36m1\u001b[0m\u001b[1;33m]\u001b[0m\u001b[1;33m.\u001b[0m\u001b[0mtext\u001b[0m\u001b[1;33m\u001b[0m\u001b[0m\n\u001b[1;32m----> 8\u001b[1;33m         \u001b[0mret\u001b[0m \u001b[1;33m+=\u001b[0m \u001b[0mret\u001b[0m\u001b[1;33m.\u001b[0m\u001b[0mzfill\u001b[0m\u001b[1;33m(\u001b[0m\u001b[0mchild\u001b[0m\u001b[1;33m[\u001b[0m\u001b[1;36m1\u001b[0m\u001b[1;33m]\u001b[0m\u001b[1;33m.\u001b[0m\u001b[0mtext\u001b[0m\u001b[1;33m.\u001b[0m\u001b[0mindex\u001b[0m\u001b[1;33m(\u001b[0m\u001b[0mposition_substring\u001b[0m\u001b[1;33m)\u001b[0m\u001b[1;33m)\u001b[0m\u001b[1;33m.\u001b[0m\u001b[0mreplace\u001b[0m\u001b[1;33m(\u001b[0m\u001b[1;34m'0'\u001b[0m\u001b[1;33m,\u001b[0m \u001b[1;34m' '\u001b[0m\u001b[1;33m)\u001b[0m \u001b[1;33m+\u001b[0m \u001b[0mnote\u001b[0m\u001b[1;33m\u001b[0m\u001b[0m\n\u001b[0m\u001b[0;32m      9\u001b[0m         \u001b[0mprint\u001b[0m\u001b[1;33m(\u001b[0m\u001b[0mchild\u001b[0m\u001b[1;33m.\u001b[0m\u001b[0mattrib\u001b[0m\u001b[1;33m.\u001b[0m\u001b[0mitems\u001b[0m\u001b[1;33m(\u001b[0m\u001b[1;33m)\u001b[0m\u001b[1;33m.\u001b[0m\u001b[0m__contains__\u001b[0m\u001b[1;33m)\u001b[0m\u001b[1;33m\u001b[0m\u001b[0m\n\u001b[0;32m     10\u001b[0m         \u001b[1;31m#print(ret)\u001b[0m\u001b[1;33m\u001b[0m\u001b[1;33m\u001b[0m\u001b[0m\n",
      "\u001b[1;31mMemoryError\u001b[0m: "
     ]
    }
   ],
   "source": [
    "for child in root:\n",
    "    if child.tag == \"segment\":\n",
    "        note = child[0].text\n",
    "        text = child[1].text\n",
    "        position_substring = child[2].text\n",
    "\n",
    "        temp += child[1].text\n",
    "        ret += ret.zfill(child[1].text.index(position_substring)).replace('0', ' ') + note\n",
    "        print(child.attrib.items().__contains__(2))\n",
    "        #print(ret)\n",
    "        #print(temp.index(child[2].text))\n",
    "        #print(ret.zfill(temp.index(position_substring)).replace('0', ' ') + note + text)\n",
    "        #ret = ret.zfill(temp.index(child[2].text)).replace('0', ' ') + child[0].text\n",
    "\n",
    "#print(ret)"
   ]
  }
 ],
 "metadata": {
  "interpreter": {
   "hash": "e73f067f1c59be12cfda938665c6a960a5d3ec55ce3a05feea7c329cb1f7e9af"
  },
  "kernelspec": {
   "display_name": "Python 3.6.5 64-bit ('base': conda)",
   "name": "python3"
  },
  "language_info": {
   "codemirror_mode": {
    "name": "ipython",
    "version": 3
   },
   "file_extension": ".py",
   "mimetype": "text/x-python",
   "name": "python",
   "nbconvert_exporter": "python",
   "pygments_lexer": "ipython3",
   "version": "3.6.5"
  }
 },
 "nbformat": 4,
 "nbformat_minor": 5
}
